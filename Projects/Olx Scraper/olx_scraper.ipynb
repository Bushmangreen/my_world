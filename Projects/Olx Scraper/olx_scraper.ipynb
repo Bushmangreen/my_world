{
 "cells": [
  {
   "cell_type": "code",
   "execution_count": 4,
   "metadata": {},
   "outputs": [],
   "source": [
    "url = \"https://www.olx.kz/transport/gruzovye-avtomobili\"\n",
    "BASE_URL = 'https://github.com'"
   ]
  },
  {
   "cell_type": "code",
   "execution_count": 5,
   "metadata": {},
   "outputs": [],
   "source": [
    "import requests\n",
    "from bs4 import BeautifulSoup"
   ]
  },
  {
   "cell_type": "code",
   "execution_count": 10,
   "metadata": {},
   "outputs": [],
   "source": [
    "def request_olx(url):\n",
    "    response = requests.get(url)\n",
    "    return response"
   ]
  },
  {
   "cell_type": "code",
   "execution_count": 11,
   "metadata": {},
   "outputs": [],
   "source": [
    "def extract(response):\n",
    "    soup = BeautifulSoup(response.text, 'html.parser')\n",
    "    return soup"
   ]
  },
  {
   "cell_type": "code",
   "execution_count": 69,
   "metadata": {},
   "outputs": [],
   "source": [
    "def transfrom(soup):\n",
    "    car_info = []\n",
    "    \n",
    "    rows = soup.find_all(class_='wrap')\n",
    "    for row in rows:\n",
    "#         city = get_city(row)\n",
    "#        price = get_price(row)\n",
    "        car = get_car(row)\n",
    "        car_title = car[0].get_text()\n",
    "        car_price = car[1].get_text()\n",
    "        car_info.append({'car': car_title, \n",
    "                        'price': car_price \n",
    "                        })\n",
    "    return car_info\n",
    "    "
   ]
  },
  {
   "cell_type": "code",
   "execution_count": 73,
   "metadata": {},
   "outputs": [],
   "source": [
    "def get_car(row):\n",
    "    header = row.find_all('strong')\n",
    "    \n",
    "#    header = row.find(class_= 'offer') \n",
    "#    link = header.find(class_= 'breadcrumb x-normal')\n",
    "#    find_next = link.find_all(class_= 'breadcrumb x-normal')\n",
    "#    so = link.find('span').next_sibling()\n",
    "    return header\n",
    "    "
   ]
  },
  {
   "cell_type": "code",
   "execution_count": 76,
   "metadata": {},
   "outputs": [],
   "source": [
    "def lets_print(car_info):\n",
    "    line = ''\n",
    "    for each in car_info:\n",
    "\n",
    "        line += each['car'] +' '+ each['price'] + \"\\n\"\n",
    "    return line\n",
    "        "
   ]
  },
  {
   "cell_type": "code",
   "execution_count": 77,
   "metadata": {},
   "outputs": [
    {
     "name": "stdout",
     "output_type": "stream",
     "text": [
      "Срочно! Газель плита мотор 406 4 700 000 тг.\n",
      "Газел груза перевозки межгород 1 111 111 тг.\n",
      "ЗИЛ 130 Автокран 800 000 тг.\n",
      "Камаз 5320 с прицепом 3 000 000 тг.\n",
      "Обмен или Продам самосвал КрАЗ 6515 после капитального ремонта. 6 000 000 тг.\n",
      "Продам сельхоз КамАз 2 000 000 тг.\n",
      "Продам Камаз (сельозник) в хорошем состоянии 5 000 000 тг.\n",
      "Грузовая техника шахман 10 500 000 тг.\n",
      "Продам грузовик 6 000 000 тг.\n",
      "CAT320 18 000 000 тг.\n",
      "Продаю газель 2 600 000 тг.\n",
      "Зил-130 1 800 000 тг.\n",
      "ГАЗЕЛЬ термобудка 2 000 000 тг.\n",
      "Продам газ 3307 1 500 000 тг.\n",
      "Продам машину 3 500 000 тг.\n",
      "Татра возд.клапана.фильтр масляный ,выпускные клапана 1 111 111 тг.\n",
      "Продам манипулятор Обмен\n",
      "Продам North Benz 2528k 8 000 000 тг.\n",
      "Газ 93б - 1971г-антиквариант 555 555 тг.\n",
      "Срочно продам ГАЗель 2 000 000 тг.\n",
      "Обмен или Продам самосвал КрАЗ 6515 после капитального ремонта. 6 000 000 тг.\n",
      "Продам зил 500 000 тг.\n",
      "Камаз вездеход 3 400 000 тг.\n",
      "Газ-53 продам. Машина продается без прицепа 650 000 тг.\n",
      "Продам МАЗ 6 800 000 тг.\n",
      "Продам автомашину Зил,самосвал,газель,прицеп 7 500 000 тг.\n",
      "ГАЗ-53 150 000 тг.\n",
      "Рефрежератор 5 000 000 тг.\n",
      "Продам 5 000 000 тг.\n",
      "Камаз 2007г 5 500 000 тг.\n",
      "Двигатель ( мотор ) ЗМЗ-53А, на Газ-53 -12, КАвЗ-685(автобус) 300 000 тг.\n",
      "Зил Самосвал 1 500 000 тг.\n",
      "Продам ГАЗ-52 850 000 тг.\n",
      "УСЛУГА манипулятор Обмен\n",
      "Зил самосвал 1 500 000 тг.\n",
      "Продам ЗИЛ-130 дизель 1 650 000 тг.\n",
      "Продам газель Валдай дизель 1 950 000 тг.\n",
      "Зил 130 131 1 111 111 тг.\n",
      "Двигателя DAF, IVECCO 11 111 111 тг.\n",
      "FAW рефрижиратор продам срочно 2 600 000 тг.\n",
      "Продам грузовик 14 500 000 тг.\n",
      "Маз восьмерка 1 700 000 тг.\n",
      "Срочно продам машину ЗИЛ-131 2 100 000 тг.\n",
      "Продам 888 888 тг.\n",
      "\n"
     ]
    }
   ],
   "source": [
    "page = request_olx(url)\n",
    "soup = extract(page)\n",
    "car_info = transfrom(soup)\n",
    "out = lets_print(car_info)\n",
    "print(out)\n"
   ]
  },
  {
   "cell_type": "code",
   "execution_count": null,
   "metadata": {},
   "outputs": [],
   "source": []
  },
  {
   "cell_type": "code",
   "execution_count": null,
   "metadata": {},
   "outputs": [],
   "source": []
  }
 ],
 "metadata": {
  "kernelspec": {
   "display_name": "Python 3",
   "language": "python",
   "name": "python3"
  },
  "language_info": {
   "codemirror_mode": {
    "name": "ipython",
    "version": 3
   },
   "file_extension": ".py",
   "mimetype": "text/x-python",
   "name": "python",
   "nbconvert_exporter": "python",
   "pygments_lexer": "ipython3",
   "version": "3.7.4"
  }
 },
 "nbformat": 4,
 "nbformat_minor": 2
}
