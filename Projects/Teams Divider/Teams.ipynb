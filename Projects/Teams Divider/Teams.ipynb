{
 "cells": [
  {
   "cell_type": "code",
   "execution_count": 1,
   "metadata": {},
   "outputs": [],
   "source": [
    "players_list = [{'name':'albert','control' : 3, 'pass' : 4, 'shoot': 3, 'speed': 5, 'position': 'forward'},\n",
    "                {'name':'ruslan','control' : 4, 'pass' : 3, 'shoot': 3, 'speed': 4, 'position': 'middle'},\n",
    "                {'name':'bilal','control' : 4, 'pass' : 4, 'shoot': 5, 'speed': 2, 'position': 'defender'},\n",
    "                {'name':'alex','control' : 2, 'pass' : 3, 'shoot': 3, 'speed': 2, 'position': 'defender'},\n",
    "                {'name':'dauren','control' : 4, 'pass' : 4, 'shoot': 4, 'speed': 1, 'position': 'middle'},\n",
    "                {'name':'nurlan','control' : 5, 'pass' : 5, 'shoot': 4, 'speed': 4, 'position': 'middle'},\n",
    "                {'name':'musa','control' : 3, 'pass' : 3, 'shoot': 2, 'speed': 3, 'position': 'middle'},\n",
    "                {'name':'hossam','control' : 4, 'pass' : 4, 'shoot': 3, 'speed': 5, 'position': 'forward'},\n",
    "                {'name':'daulet','control' : 4, 'pass' : 4, 'shoot': 3, 'speed': 4, 'position': 'middle'},\n",
    "                {'name':'nurdos','control' : 4, 'pass' : 5, 'shoot': 3, 'speed': 5, 'position': 'middle'}, \n",
    "                ]\n",
    "\n",
    "# {'name':'nurdos','control' : 4, 'pass' : 5, 'shoot': 3, 'speed': 5, 'position': 'middle'},\n",
    "# {'name':'ulan','control' : 3, 'pass' : 4, 'shoot': 4, 'speed': 5, 'position': 'forward'},\n",
    "# {'name':'abdel','control' : 3, 'pass' : 3, 'shoot': 3, 'speed': 1, 'position': 'forward'},\n",
    "# {'name':'albert','control' : 3, 'pass' : 4, 'shoot': 3, 'speed': 5, 'position': 'keeper'},\n",
    "# {'name':'yasin','control' : 4, 'pass' : 4, 'shoot': 4, 'speed': 4, 'position': 'middle'},\n",
    "# {'name':'ronel','control' : 3, 'pass' : 3, 'shoot': 3, 'speed': 3, 'position': 'forward'},\n",
    "# {'name':'amr','control' : 4, 'pass' : 4, 'shoot': 4, 'speed': 3, 'position': 'forward'},"
   ]
  },
  {
   "cell_type": "code",
   "execution_count": 2,
   "metadata": {},
   "outputs": [],
   "source": [
    "wingers = []\n",
    "denfenders = []\n",
    "forwards = []\n",
    "\n",
    "team = []\n",
    "team_1 = []\n",
    "team_2 = []\n",
    "\n",
    "team1_score = []\n",
    "team2_score = []"
   ]
  },
  {
   "cell_type": "code",
   "execution_count": 3,
   "metadata": {},
   "outputs": [],
   "source": [
    "for player in players_list:\n",
    "    if player['position'] == 'middle':\n",
    "        wingers.append(player)\n",
    "    elif player['position'] == 'defender':\n",
    "        denfenders.append(player) \n",
    "    else: \n",
    "        forwards.append(player)"
   ]
  },
  {
   "cell_type": "code",
   "execution_count": 4,
   "metadata": {},
   "outputs": [],
   "source": [
    "best_denfender = {player['name']:(player['control'] + player['pass'] + player['shoot'] + player['speed']) for player in denfenders}\n",
    "best_winger  = {player['name']:(player['control'] + player['pass'] + player['shoot'] + player['speed']) for player in wingers}\n",
    "best_forwards = {player['name']:(player['control'] + player['pass'] + player['shoot'] + player['speed']) for player in forwards}"
   ]
  },
  {
   "cell_type": "code",
   "execution_count": 5,
   "metadata": {},
   "outputs": [],
   "source": [
    "best_winger  = sorted(best_winger.items(), key=lambda kv: kv[1])\n",
    "best_forwards  = sorted(best_forwards.items(), key=lambda kv: kv[1])\n",
    "best_denfender  = sorted(best_denfender.items(), key=lambda kv: kv[1])"
   ]
  },
  {
   "cell_type": "code",
   "execution_count": 6,
   "metadata": {},
   "outputs": [],
   "source": [
    "i = 0\n",
    "for each in best_winger:\n",
    "    if i%2 == 0:\n",
    "        team_1.append(each[0])\n",
    "        team1_score.append(each[1])\n",
    "    else:\n",
    "        team_2.append(each[0])\n",
    "        team2_score.append(each[1])\n",
    "    i += 1"
   ]
  },
  {
   "cell_type": "code",
   "execution_count": 7,
   "metadata": {},
   "outputs": [],
   "source": [
    "i = 0\n",
    "for each in best_forwards:\n",
    "    if i%2 == 0:\n",
    "        team_1.append(each[0])\n",
    "        team1_score.append(each[1])\n",
    "    else:\n",
    "        team_2.append(each[0])\n",
    "        team2_score.append(each[1])\n",
    "    i += 1"
   ]
  },
  {
   "cell_type": "code",
   "execution_count": 8,
   "metadata": {},
   "outputs": [],
   "source": [
    "i = 0\n",
    "for each in best_denfender:\n",
    "    if i%2 == 0:\n",
    "        team_2.append(each[0])\n",
    "        team2_score.append(each[1])\n",
    "    else:\n",
    "        team_1.append(each[0])\n",
    "        team1_score.append(each[1])\n",
    "    i += 1"
   ]
  },
  {
   "cell_type": "code",
   "execution_count": 9,
   "metadata": {},
   "outputs": [
    {
     "data": {
      "text/plain": [
       "['musa', 'ruslan', 'nurdos', 'albert', 'bilal']"
      ]
     },
     "execution_count": 9,
     "metadata": {},
     "output_type": "execute_result"
    }
   ],
   "source": [
    "team_1"
   ]
  },
  {
   "cell_type": "code",
   "execution_count": 10,
   "metadata": {},
   "outputs": [
    {
     "data": {
      "text/plain": [
       "[11, 14, 17, 15, 15]"
      ]
     },
     "execution_count": 10,
     "metadata": {},
     "output_type": "execute_result"
    }
   ],
   "source": [
    "team1_score"
   ]
  },
  {
   "cell_type": "markdown",
   "metadata": {},
   "source": [
    "team_2"
   ]
  },
  {
   "cell_type": "code",
   "execution_count": 11,
   "metadata": {},
   "outputs": [
    {
     "data": {
      "text/plain": [
       "['dauren', 'daulet', 'nurlan', 'hossam', 'alex']"
      ]
     },
     "execution_count": 11,
     "metadata": {},
     "output_type": "execute_result"
    }
   ],
   "source": [
    "team_2"
   ]
  },
  {
   "cell_type": "code",
   "execution_count": 12,
   "metadata": {},
   "outputs": [
    {
     "data": {
      "text/plain": [
       "[13, 15, 18, 16, 10]"
      ]
     },
     "execution_count": 12,
     "metadata": {},
     "output_type": "execute_result"
    }
   ],
   "source": [
    "team2_score"
   ]
  },
  {
   "cell_type": "code",
   "execution_count": 13,
   "metadata": {},
   "outputs": [
    {
     "data": {
      "text/plain": [
       "72"
      ]
     },
     "execution_count": 13,
     "metadata": {},
     "output_type": "execute_result"
    }
   ],
   "source": [
    "sum(team1_score)"
   ]
  },
  {
   "cell_type": "code",
   "execution_count": 14,
   "metadata": {},
   "outputs": [
    {
     "data": {
      "text/plain": [
       "72"
      ]
     },
     "execution_count": 14,
     "metadata": {},
     "output_type": "execute_result"
    }
   ],
   "source": [
    "sum(team2_score)"
   ]
  },
  {
   "cell_type": "code",
   "execution_count": 15,
   "metadata": {},
   "outputs": [],
   "source": [
    "for a in best_denfender:\n",
    "    team.append(a)\n",
    "for b in best_winger:\n",
    "    team.append(b)    \n",
    "for c in best_forwards:\n",
    "    team.append(c)    \n"
   ]
  },
  {
   "cell_type": "code",
   "execution_count": 16,
   "metadata": {},
   "outputs": [
    {
     "data": {
      "text/plain": [
       "[('alex', 10),\n",
       " ('bilal', 15),\n",
       " ('musa', 11),\n",
       " ('dauren', 13),\n",
       " ('ruslan', 14),\n",
       " ('daulet', 15),\n",
       " ('nurdos', 17),\n",
       " ('nurlan', 18),\n",
       " ('albert', 15),\n",
       " ('hossam', 16)]"
      ]
     },
     "execution_count": 16,
     "metadata": {},
     "output_type": "execute_result"
    }
   ],
   "source": [
    "team"
   ]
  },
  {
   "cell_type": "code",
   "execution_count": 17,
   "metadata": {},
   "outputs": [],
   "source": [
    "team_sorted  = sorted(team, key=lambda kv: kv[1])"
   ]
  },
  {
   "cell_type": "code",
   "execution_count": 18,
   "metadata": {},
   "outputs": [
    {
     "data": {
      "text/plain": [
       "[('alex', 10),\n",
       " ('musa', 11),\n",
       " ('dauren', 13),\n",
       " ('ruslan', 14),\n",
       " ('bilal', 15),\n",
       " ('daulet', 15),\n",
       " ('albert', 15),\n",
       " ('hossam', 16),\n",
       " ('nurdos', 17),\n",
       " ('nurlan', 18)]"
      ]
     },
     "execution_count": 18,
     "metadata": {},
     "output_type": "execute_result"
    }
   ],
   "source": [
    "team_sorted"
   ]
  },
  {
   "cell_type": "code",
   "execution_count": 19,
   "metadata": {},
   "outputs": [],
   "source": [
    "import itertools\n",
    "\n",
    "a_list= [('alex', 10),\n",
    "         ('musa', 11),\n",
    "         ('dauren', 13),\n",
    "         ('ruslan', 14),\n",
    "         ('bilal', 15),\n",
    "         ('daulet', 15),\n",
    "         ('albert', 15),\n",
    "         ('hossam', 16),\n",
    "         ('nurdos', 17),\n",
    "         ('nurlan', 18)\n",
    "        ]\n",
    "\n",
    "permutations_object = itertools.permutations(a_list)\n",
    "\n",
    "permutations_list = list(permutations_object)\n",
    "\n"
   ]
  },
  {
   "cell_type": "code",
   "execution_count": 20,
   "metadata": {},
   "outputs": [],
   "source": [
    "# for each in permutations_list:\n",
    "#     point_1 = 0\n",
    "#     point_2 = 0\n",
    "#     t1 = []\n",
    "#     t2 = []\n",
    "#     names1 = []\n",
    "#     names2 = []\n",
    "#     for num in each[0:5]:\n",
    "#         t1.append(num[1])\n",
    "#         names1.append(num[0])\n",
    "#     point_1 = sum(t1)\n",
    "#     for nums in each[5:]:\n",
    "#         t2.append(nums[1])\n",
    "#         names2.append(nums[0])\n",
    "#     point_2 = sum(t2)\n",
    "#     if abs(point_2==point_1):\n",
    "#         print(names1, names2)\n",
    "        "
   ]
  },
  {
   "cell_type": "code",
   "execution_count": 21,
   "metadata": {},
   "outputs": [],
   "source": [
    "from itertools import combinations\n",
    "comb = combinations(team_sorted,5)\n",
    "comb = list(comb)"
   ]
  },
  {
   "cell_type": "code",
   "execution_count": 49,
   "metadata": {},
   "outputs": [
    {
     "name": "stdout",
     "output_type": "stream",
     "text": [
      "(('alex', 10), ('musa', 11), ('hossam', 16), ('nurdos', 17), ('nurlan', 18))\n",
      "Goalkeepers: 0 Defenders: 1 Middle: 3 Forwards 1\n",
      "--------------------------------------------------------\n",
      "(('alex', 10), ('dauren', 13), ('ruslan', 14), ('nurdos', 17), ('nurlan', 18))\n",
      "Goalkeepers: 0 Defenders: 1 Middle: 4 Forwards 0\n",
      "--------------------------------------------------------\n",
      "(('alex', 10), ('dauren', 13), ('bilal', 15), ('hossam', 16), ('nurlan', 18))\n",
      "Goalkeepers: 0 Defenders: 2 Middle: 2 Forwards 1\n",
      "--------------------------------------------------------\n",
      "(('alex', 10), ('dauren', 13), ('daulet', 15), ('hossam', 16), ('nurlan', 18))\n",
      "Goalkeepers: 0 Defenders: 1 Middle: 3 Forwards 1\n",
      "--------------------------------------------------------\n",
      "(('alex', 10), ('dauren', 13), ('albert', 15), ('hossam', 16), ('nurlan', 18))\n",
      "Goalkeepers: 0 Defenders: 1 Middle: 2 Forwards 2\n",
      "--------------------------------------------------------\n",
      "(('alex', 10), ('ruslan', 14), ('bilal', 15), ('daulet', 15), ('nurlan', 18))\n",
      "Goalkeepers: 0 Defenders: 2 Middle: 3 Forwards 0\n",
      "--------------------------------------------------------\n",
      "(('alex', 10), ('ruslan', 14), ('bilal', 15), ('albert', 15), ('nurlan', 18))\n",
      "Goalkeepers: 0 Defenders: 2 Middle: 2 Forwards 1\n",
      "--------------------------------------------------------\n",
      "(('alex', 10), ('ruslan', 14), ('bilal', 15), ('hossam', 16), ('nurdos', 17))\n",
      "Goalkeepers: 0 Defenders: 2 Middle: 2 Forwards 1\n",
      "--------------------------------------------------------\n",
      "(('alex', 10), ('ruslan', 14), ('daulet', 15), ('albert', 15), ('nurlan', 18))\n",
      "Goalkeepers: 0 Defenders: 1 Middle: 3 Forwards 1\n",
      "--------------------------------------------------------\n",
      "(('alex', 10), ('ruslan', 14), ('daulet', 15), ('hossam', 16), ('nurdos', 17))\n",
      "Goalkeepers: 0 Defenders: 1 Middle: 3 Forwards 1\n",
      "--------------------------------------------------------\n",
      "(('alex', 10), ('ruslan', 14), ('albert', 15), ('hossam', 16), ('nurdos', 17))\n",
      "Goalkeepers: 0 Defenders: 1 Middle: 2 Forwards 2\n",
      "--------------------------------------------------------\n",
      "(('alex', 10), ('bilal', 15), ('daulet', 15), ('albert', 15), ('nurdos', 17))\n",
      "Goalkeepers: 0 Defenders: 2 Middle: 2 Forwards 1\n",
      "--------------------------------------------------------\n",
      "(('musa', 11), ('dauren', 13), ('ruslan', 14), ('hossam', 16), ('nurlan', 18))\n",
      "Goalkeepers: 0 Defenders: 0 Middle: 4 Forwards 1\n",
      "--------------------------------------------------------\n",
      "(('musa', 11), ('dauren', 13), ('bilal', 15), ('daulet', 15), ('nurlan', 18))\n",
      "Goalkeepers: 0 Defenders: 1 Middle: 4 Forwards 0\n",
      "--------------------------------------------------------\n",
      "(('musa', 11), ('dauren', 13), ('bilal', 15), ('albert', 15), ('nurlan', 18))\n",
      "Goalkeepers: 0 Defenders: 1 Middle: 3 Forwards 1\n",
      "--------------------------------------------------------\n",
      "(('musa', 11), ('dauren', 13), ('bilal', 15), ('hossam', 16), ('nurdos', 17))\n",
      "Goalkeepers: 0 Defenders: 1 Middle: 3 Forwards 1\n",
      "--------------------------------------------------------\n",
      "(('musa', 11), ('dauren', 13), ('daulet', 15), ('albert', 15), ('nurlan', 18))\n",
      "Goalkeepers: 0 Defenders: 0 Middle: 4 Forwards 1\n",
      "--------------------------------------------------------\n",
      "(('musa', 11), ('dauren', 13), ('daulet', 15), ('hossam', 16), ('nurdos', 17))\n",
      "Goalkeepers: 0 Defenders: 0 Middle: 4 Forwards 1\n",
      "--------------------------------------------------------\n",
      "(('musa', 11), ('dauren', 13), ('albert', 15), ('hossam', 16), ('nurdos', 17))\n",
      "Goalkeepers: 0 Defenders: 0 Middle: 3 Forwards 2\n",
      "--------------------------------------------------------\n",
      "(('musa', 11), ('ruslan', 14), ('bilal', 15), ('daulet', 15), ('nurdos', 17))\n",
      "Goalkeepers: 0 Defenders: 1 Middle: 4 Forwards 0\n",
      "--------------------------------------------------------\n",
      "(('musa', 11), ('ruslan', 14), ('bilal', 15), ('albert', 15), ('nurdos', 17))\n",
      "Goalkeepers: 0 Defenders: 1 Middle: 3 Forwards 1\n",
      "--------------------------------------------------------\n",
      "(('musa', 11), ('ruslan', 14), ('daulet', 15), ('albert', 15), ('nurdos', 17))\n",
      "Goalkeepers: 0 Defenders: 0 Middle: 4 Forwards 1\n",
      "--------------------------------------------------------\n",
      "(('musa', 11), ('bilal', 15), ('daulet', 15), ('albert', 15), ('hossam', 16))\n",
      "Goalkeepers: 0 Defenders: 1 Middle: 2 Forwards 2\n",
      "--------------------------------------------------------\n",
      "(('dauren', 13), ('ruslan', 14), ('bilal', 15), ('daulet', 15), ('albert', 15))\n",
      "Goalkeepers: 0 Defenders: 1 Middle: 3 Forwards 1\n",
      "--------------------------------------------------------\n"
     ]
    }
   ],
   "source": [
    "\n",
    "test = {i['name']:i['position'] for i in players_list}\n",
    "for each in comb:\n",
    "    points = 0\n",
    "    a = 0\n",
    "    b = 0\n",
    "    c = 0\n",
    "    d = 0\n",
    "    points = sum([i[1] for i in each])\n",
    "    if points==72:\n",
    "        for name in each:\n",
    "            if test[name[0]] == 'middle':\n",
    "                a += 1\n",
    "            elif test[name[0]] == 'defender':\n",
    "                b += 1\n",
    "            elif test[name[0]] == 'forward':\n",
    "                c += 1\n",
    "            else:\n",
    "                d += 1\n",
    "        print(each)\n",
    "        print('Goalkeepers:',d,'Defenders:',b,'Middle:',a,'Forwards',c)\n",
    "        print('--------------------------------------------------------')\n",
    "\n",
    "                "
   ]
  },
  {
   "cell_type": "code",
   "execution_count": 41,
   "metadata": {},
   "outputs": [
    {
     "data": {
      "text/plain": [
       "{'albert': 'forward',\n",
       " 'ruslan': 'middle',\n",
       " 'bilal': 'defender',\n",
       " 'alex': 'defender',\n",
       " 'dauren': 'middle',\n",
       " 'nurlan': 'middle',\n",
       " 'musa': 'middle',\n",
       " 'hossam': 'forward',\n",
       " 'daulet': 'middle',\n",
       " 'nurdos': 'middle'}"
      ]
     },
     "execution_count": 41,
     "metadata": {},
     "output_type": "execute_result"
    }
   ],
   "source": [
    "test"
   ]
  },
  {
   "cell_type": "code",
   "execution_count": 36,
   "metadata": {},
   "outputs": [],
   "source": []
  },
  {
   "cell_type": "code",
   "execution_count": null,
   "metadata": {},
   "outputs": [],
   "source": []
  },
  {
   "cell_type": "code",
   "execution_count": null,
   "metadata": {},
   "outputs": [],
   "source": []
  }
 ],
 "metadata": {
  "kernelspec": {
   "display_name": "Python 3",
   "language": "python",
   "name": "python3"
  },
  "language_info": {
   "codemirror_mode": {
    "name": "ipython",
    "version": 3
   },
   "file_extension": ".py",
   "mimetype": "text/x-python",
   "name": "python",
   "nbconvert_exporter": "python",
   "pygments_lexer": "ipython3",
   "version": "3.7.4"
  }
 },
 "nbformat": 4,
 "nbformat_minor": 2
}
