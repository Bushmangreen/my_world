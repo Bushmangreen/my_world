{
 "cells": [
  {
   "cell_type": "code",
   "execution_count": 4,
   "metadata": {},
   "outputs": [],
   "source": [
    "#specific to extracting information from word documents\n",
    "import os\n",
    "import zipfile\n",
    "#other tools useful in extracting the information from our document\n",
    "import re\n",
    "#to pretty print our xml:\n",
    "import xml.dom.minidom"
   ]
  },
  {
   "cell_type": "code",
   "execution_count": 5,
   "metadata": {},
   "outputs": [
    {
     "data": {
      "text/plain": [
       "'/Users/omarkulov/Downloads/Tele_2_Interview'"
      ]
     },
     "execution_count": 5,
     "metadata": {},
     "output_type": "execute_result"
    }
   ],
   "source": [
    "os.getcwd()\n"
   ]
  },
  {
   "cell_type": "code",
   "execution_count": 9,
   "metadata": {},
   "outputs": [],
   "source": [
    "os.chdir('/Users/omarkulov/Desktop')"
   ]
  },
  {
   "cell_type": "code",
   "execution_count": 10,
   "metadata": {},
   "outputs": [
    {
     "data": {
      "text/plain": [
       "['ET131 - Syllabus.docx',\n",
       " 'Action Plan.xlsx',\n",
       " '.DS_Store',\n",
       " 'Lab 5-ET106.docx',\n",
       " '.localized',\n",
       " 'QWASAR',\n",
       " '~$150 школ.xlsx',\n",
       " 'ET131 - Project.docx',\n",
       " 'Lab 4-ET106.docx',\n",
       " '.ipynb_checkpoints',\n",
       " '~$131 - Syllabus FALL 2020.docx',\n",
       " '~$line Plan.docx']"
      ]
     },
     "execution_count": 10,
     "metadata": {},
     "output_type": "execute_result"
    }
   ],
   "source": []
  },
  {
   "cell_type": "code",
   "execution_count": 23,
   "metadata": {},
   "outputs": [],
   "source": [
    "document = zipfile.ZipFile('test.docx')\n",
    "#document will be the filetype zipfile.ZipFile"
   ]
  },
  {
   "cell_type": "code",
   "execution_count": 24,
   "metadata": {},
   "outputs": [
    {
     "data": {
      "text/plain": [
       "['[Content_Types].xml',\n",
       " '_rels/.rels',\n",
       " 'word/_rels/document.xml.rels',\n",
       " 'word/document.xml',\n",
       " 'word/theme/theme1.xml',\n",
       " 'word/settings.xml',\n",
       " 'docProps/core.xml',\n",
       " 'word/fontTable.xml',\n",
       " 'word/webSettings.xml',\n",
       " 'word/styles.xml',\n",
       " 'docProps/app.xml']"
      ]
     },
     "execution_count": 24,
     "metadata": {},
     "output_type": "execute_result"
    }
   ],
   "source": [
    "document.namelist()"
   ]
  },
  {
   "cell_type": "code",
   "execution_count": 25,
   "metadata": {},
   "outputs": [
    {
     "name": "stdout",
     "output_type": "stream",
     "text": [
      "<?xml version=\"1.0\" ?>\n",
      "<w:document mc:Ignorable=\"w14 w15 w16se w16cid w16 w16cex wp14\" xmlns:aink=\"http://schemas.microsoft.com/office/drawing/2016/ink\" xmlns:am3d=\"http://schemas.microsoft.com/office/drawing/2017/model3d\" xmlns:cx=\"http://schemas.microsoft.com/office/drawing/2014/chartex\" xmlns:cx1=\"http://schemas.microsoft.com/office/drawing/2015/9/8/chartex\" xmlns:cx2=\"http://schemas.microsoft.com/office/drawing/2015/10/21/chartex\" xmlns:cx3=\"http://schemas.microsoft.com/office/drawing/2016/5/9/chartex\" xmlns:cx4=\"http://schemas.microsoft.com/office/drawing/2016/5/10/chartex\" xmlns:cx5=\"http://schemas.microsoft.com/office/drawing/2016/5/11/chartex\" xmlns:cx6=\"http://schemas.microsoft.com/office/drawing/2016/5/12/chartex\" xmlns:cx7=\"http://schemas.microsoft.com/office/drawing/2016/5/13/chartex\" xmlns:cx8=\"http://schemas.microsoft.com/office/drawing/2016/5/14/chartex\" xmlns:m=\"http://schemas.openxmlformats.org/officeDocument/2006/math\" xmlns:mc=\"http://schemas.openxmlformats.org/markup-compatibility/2006\" xmlns:o=\"urn:schemas-microsoft-com:office:office\" xmlns:r=\"http://schemas.openxmlformats.org/officeDocument/2006/relationships\" xmlns:v=\"urn:schemas-microsoft-com:vml\" xmlns:w=\"http://schemas.openxmlformats.org/wordprocessingml/2006/main\" xmlns:w10=\"urn:schemas-microsoft-com:office:word\" xmlns:w14=\"http://schemas.microsoft.com/office/word/2010/wordml\" xmlns:w15=\"http://schemas.microsoft.com/office/word/2012/wordml\" xmlns:w16=\"http://schemas.microsoft.com/office/word/2018/wordml\" xmlns:w16cex=\"http://schemas.microsoft.com/office/word/2018/wordml/cex\" xmlns:w16cid=\"http://schemas.microsoft.com/office/word/2016/wordml/cid\" xmlns:w16se=\"http://schemas.microsoft.com/office/word/2015/wordml/symex\" xmlns:wne=\"http://schemas.microsoft.com/office/word/2006/wordml\" xmlns:wp=\"http://schemas.openxmlformats.org/drawingml/2006/wordprocessingDrawing\" xmlns:wp14=\"http://schemas.microsoft.com/office/word/2010/wordprocessingDrawing\" xmlns:wpc=\"http://schemas.microsoft.com/office/word/2010/wordprocessingCanvas\" xmlns:wpg=\"http://schemas.microsoft.com/office/word/2010/wordprocessingGroup\" xmlns:wpi=\"http://schemas.microsoft.com/office/word/2010/wordprocessingInk\" xmlns:wps=\"http://schemas.microsoft.com/office/word/2010/wordprocessingShape\">\n",
      "  <w:body>\n",
      "    <w:p w14:paraId=\"4F0FB387\" w14:textId=\"1E22AC1F\" w:rsidR=\"00916DA6\" w:rsidRDefault=\"00A745F0\" w:rsidRPr=\"00A745F0\">\n",
      "      <w:pPr>\n",
      "        <w:rPr>\n",
      "          <w:lang w:val=\"en-US\"/>\n",
      "        </w:rPr>\n",
      "      </w:pPr>\n",
      "      <w:r>\n",
      "        <w:rPr>\n",
      "          <w:lang w:val=\"en-US\"/>\n",
      "        </w:rPr>\n",
      "        <w:t>Hello World</w:t>\n",
      "      </w:r>\n",
      "    </w:p>\n",
      "    <w:sectPr w:rsidR=\"00916DA6\" w:rsidRPr=\"00A745F0\">\n",
      "      <w:pgSz w:h=\"15840\" w:w=\"12240\"/>\n",
      "      <w:pgMar w:bottom=\"1440\" w:footer=\"708\" w:gutter=\"0\" w:header=\"708\" w:left=\"1440\" w:right=\"1440\" w:top=\"1440\"/>\n",
      "      <w:cols w:space=\"708\"/>\n",
      "      <w:docGrid w:linePitch=\"360\"/>\n",
      "    </w:sectPr>\n",
      "  </w:body>\n",
      "</w:document>\n",
      "\n"
     ]
    }
   ],
   "source": [
    "#ok cool let's get the xml that has the text contained in the document\n",
    "#name = 'word/document.xml'\n",
    "uglyXml = xml.dom.minidom.parseString(document.read('word/document.xml')).toprettyxml(indent='  ')\n",
    "\n",
    "text_re = re.compile('>\\n\\s+([^<>\\s].*?)\\n\\s+</', re.DOTALL)    \n",
    "prettyXml = text_re.sub('>\\g<1></', uglyXml)\n",
    "\n",
    "print(prettyXml)"
   ]
  },
  {
   "cell_type": "code",
   "execution_count": null,
   "metadata": {},
   "outputs": [],
   "source": []
  }
 ],
 "metadata": {
  "kernelspec": {
   "display_name": "Python 3",
   "language": "python",
   "name": "python3"
  },
  "language_info": {
   "codemirror_mode": {
    "name": "ipython",
    "version": 3
   },
   "file_extension": ".py",
   "mimetype": "text/x-python",
   "name": "python",
   "nbconvert_exporter": "python",
   "pygments_lexer": "ipython3",
   "version": "3.7.4"
  }
 },
 "nbformat": 4,
 "nbformat_minor": 2
}
