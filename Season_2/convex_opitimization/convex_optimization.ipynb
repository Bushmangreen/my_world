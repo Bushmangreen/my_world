{
 "cells": [
  {
   "cell_type": "markdown",
   "metadata": {},
   "source": [
    "# My Convex Optimization"
   ]
  },
  {
   "cell_type": "markdown",
   "metadata": {},
   "source": [
    "Submit file: [\"my_convex_optimization.py\"]\n"
   ]
  },
  {
   "cell_type": "markdown",
   "metadata": {},
   "source": [
    "## Introduction\n",
    "Importing libraries"
   ]
  },
  {
   "cell_type": "code",
   "execution_count": 2,
   "metadata": {},
   "outputs": [],
   "source": [
    "from matplotlib import pyplot as plt\n",
    "import numpy as np"
   ]
  },
  {
   "cell_type": "markdown",
   "metadata": {},
   "source": [
    "## Function Plot"
   ]
  },
  {
   "cell_type": "code",
   "execution_count": 2,
   "metadata": {},
   "outputs": [],
   "source": [
    "f = lambda x : (x - 1) ** 4 + x ** 2\n",
    "f_prime = lambda x : 4*((x-1)**3) + 2*x\n"
   ]
  },
  {
   "cell_type": "code",
   "execution_count": 3,
   "metadata": {},
   "outputs": [
    {
     "data": {
      "image/png": "[encoded data removed]",
      "text/plain": [
       "<Figure size 432x288 with 1 Axes>"
      ]
     },
     "metadata": {
      "needs_background": "light"
     },
     "output_type": "display_data"
    }
   ],
   "source": [
    "x = np.linspace(-0.5,1.5,100)\n",
    "y = f(x)\n",
    "plt.plot(x,y)\n",
    "plt.title(\"Function: (x-1)^4 + x^2)\")\n",
    "plt.xlabel('X Axis')\n",
    "plt.ylabel('Y Axis')\n",
    "plt.show()"
   ]
  },
  {
   "cell_type": "markdown",
   "metadata": {},
   "source": [
    "## Finding Root of Function"
   ]
  },
  {
   "cell_type": "code",
   "execution_count": 4,
   "metadata": {},
   "outputs": [],
   "source": [
    "def find_root(f,a,b):\n",
    "    if (f(a) * f(b) >= 0): \n",
    "        print(\"You have not assumed right a and b\\n\") \n",
    "        return\n",
    "    c = a\n",
    "    while( (b - a) >= 0.001):\n",
    "        c = (a + b) / 2\n",
    "        if (f(c) == 0):\n",
    "            break\n",
    "        \n",
    "        if (f(a) * f(c) < 0):\n",
    "            b = c\n",
    "        else:\n",
    "            a = c\n",
    "    return c"
   ]
  },
  {
   "cell_type": "code",
   "execution_count": 5,
   "metadata": {},
   "outputs": [
    {
     "name": "stdout",
     "output_type": "stream",
     "text": [
      "0.4107666015625 0.28927426187129535\n"
     ]
    }
   ],
   "source": [
    "root = find_root(f_prime,-5,5)\n",
    "y_min = f(root)\n",
    "print(root,y_min)"
   ]
  },
  {
   "cell_type": "code",
   "execution_count": 6,
   "metadata": {},
   "outputs": [
    {
     "data": {
      "image/png": "[encoded data removed]",
      "text/plain": [
       "<Figure size 432x288 with 1 Axes>"
      ]
     },
     "metadata": {
      "needs_background": "light"
     },
     "output_type": "display_data"
    }
   ],
   "source": [
    "plt.plot(x,y)\n",
    "plt.title(\"Function: (x-1)^4 + x^2)\")\n",
    "plt.xlabel('X Axis')\n",
    "plt.ylabel('Y Axis')\n",
    "plt.scatter(root,y_min, color= 'red')\n",
    "plt.show()"
   ]
  },
  {
   "cell_type": "markdown",
   "metadata": {},
   "source": [
    "## Gradient Descent Methods"
   ]
  },
  {
   "cell_type": "code",
   "execution_count": 9,
   "metadata": {},
   "outputs": [
    {
     "name": "stdout",
     "output_type": "stream",
     "text": [
      "xmin: 0.411, f(x_min): 0.289 Iterations: 10\n"
     ]
    }
   ],
   "source": [
    "def gradient_descent(f, f_prime, cur_x, learning_rate = 0.1):\n",
    "\n",
    "    precision = 0.001 #This tells us when to stop the algorithm\n",
    "    previous_step_size = 1 #\n",
    "    iters = 0\n",
    "    while previous_step_size > precision:\n",
    "        prev_x = cur_x #Store current x value in prev_x\n",
    "        cur_x = cur_x - learning_rate * f_prime(prev_x) #Grad descent\n",
    "        previous_step_size = abs(cur_x - prev_x) #Change in x\n",
    "        iters += 1\n",
    "    return cur_x,iters\n",
    "\n",
    "start = -1\n",
    "x_min,iters = gradient_descent(f, f_prime, start, 0.1)\n",
    "f_min = f(x_min)\n",
    "\n",
    "print(\"xmin: %0.3f, f(x_min): %0.3f\" % (x_min, f_min),\"Iterations:\",iters)\n"
   ]
  },
  {
   "cell_type": "markdown",
   "metadata": {},
   "source": [
    "**Question: How does the learning rate influence the efficiency of the algorithm? What happens if it is very small? What if it is very big?**"
   ]
  },
  {
   "cell_type": "markdown",
   "metadata": {},
   "source": [
    "*Answer: If no learning rate is bigger number number interations will decrease,however there is a pit fall that we might skip over the local minimum. If the learning rate is smaller the it will take longer time to find the minimum, however the prericision should be be adjasted accordingly, precision must be smaller then the learning rate.*"
   ]
  },
  {
   "cell_type": "markdown",
   "metadata": {},
   "source": [
    "## Simplex algorithm"
   ]
  },
  {
   "cell_type": "markdown",
   "metadata": {},
   "source": [
    "*maximize   z = x + 2y\n",
    "subject to\n",
    "      2x + y ≤ 10\n",
    "      -4x + 5y ≤ 8\n",
    "      x - 2y ≤ 3\n",
    "      x, y ≥ 0*"
   ]
  },
  {
   "cell_type": "code",
   "execution_count": 7,
   "metadata": {},
   "outputs": [],
   "source": [
    "from scipy.optimize import linprog\n",
    "\n",
    "def solve_linear_problem(A, b, c):\n",
    "    return linprog(c, A_ub=A, b_ub=b,bounds=(0, None))"
   ]
  },
  {
   "cell_type": "code",
   "execution_count": 29,
   "metadata": {},
   "outputs": [
    {
     "name": "stdout",
     "output_type": "stream",
     "text": [
      "The optimal value is: 11.0  and is reached for x =  [3. 4.]\n"
     ]
    }
   ],
   "source": [
    "A = np.array([[2, 1], [-4, 5], [1, -2], [-1, 0], [0, -1]])\n",
    "b = np.array([10, 8, 3, 0, 0])\n",
    "c = np.array([-1,-2])\n",
    "result = solve_linear_problem(A, b, c)\n",
    "print(\"The optimal value is:\", round(result['fun'] * (-1),2), \" and is reached for x = \", result['x'])"
   ]
  },
  {
   "cell_type": "code",
   "execution_count": null,
   "metadata": {},
   "outputs": [],
   "source": []
  }
 ],
 "metadata": {
  "kernelspec": {
   "display_name": "Python 3",
   "language": "python",
   "name": "python3"
  },
  "language_info": {
   "codemirror_mode": {
    "name": "ipython",
    "version": 3
   },
   "file_extension": ".py",
   "mimetype": "text/x-python",
   "name": "python",
   "nbconvert_exporter": "python",
   "pygments_lexer": "ipython3",
   "version": "3.7.4"
  }
 },
 "nbformat": 4,
 "nbformat_minor": 2
}
