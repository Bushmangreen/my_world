{
 "cells": [
  {
   "cell_type": "code",
   "execution_count": 3,
   "metadata": {},
   "outputs": [],
   "source": [
    "import sqlite3\n",
    "import csv\n"
   ]
  },
  {
   "cell_type": "code",
   "execution_count": 36,
   "metadata": {},
   "outputs": [],
   "source": [
    "def csv_to_sql(csv_input, sql_ouput):\n",
    "    try:\n",
    "        conn = sqlite3.connect(sql_ouput)\n",
    "        cursor = conn.cursor()\n",
    "        print(\"Opened database successfully\")\n",
    "    except Exception as e:\n",
    "        print(\"Error during connection:\", str(e))\n",
    "\n",
    "    conn.execute('''CREATE TABLE VOLCANOS\n",
    "             (volcano_name varchar(100),\n",
    "             country varchar(100),\n",
    "             volcano_type varchar(100),\n",
    "             latitude_dd real,\n",
    "             longitude_dd real,\n",
    "             elevation int);''')\n",
    "    print(\"Table created successfully\")\n",
    "    \n",
    "    data_rows = []\n",
    "    with open(csv_input) as csv_file:\n",
    "        csv_reader = csv.reader(csv_file, delimiter= ',')\n",
    "        for row in csv_reader:\n",
    "            data_rows.append(row)\n",
    "\n",
    "    sqlite_insert_with_param = \"\"\"INSERT or REPLACE INTO VOLCANOS\n",
    "                      (volcano_name, country, volcano_type, latitude_dd, longitude_dd, elevation) \n",
    "                      VALUES (?, ?, ?, ?, ?, ?);\"\"\"\n",
    "    for row in data_rows:\n",
    "        if (len(row)>5):\n",
    "            conn.execute(sqlite_insert_with_param ,(row))\n",
    "    count = 0\n",
    "    cursor.execute(\"SELECT volcano_name, country, volcano_type, latitude_dd, longitude_dd, elevation from VOLCANOS\")\n",
    "    conn.commit()\n",
    "    print(\"Records created successfully\")\n",
    "    conn.close()\n",
    "\n",
    "    "
   ]
  },
  {
   "cell_type": "code",
   "execution_count": 43,
   "metadata": {},
   "outputs": [],
   "source": [
    "def sql_to_csv(sql_input, csv_output):\n",
    "    try:\n",
    "        conn = sqlite3.connect(sql_input)\n",
    "        cursor = conn.cursor()\n",
    "        print(\"Opened database successfully\")\n",
    "    except Exception as e:\n",
    "        print(\"Error during connection:\", str(e))\n",
    "        \n",
    "    #get the column names:\n",
    "    cursor.execute(\"SELECT * from fault_lines\")\n",
    "    column_names = [names[0] for names in cursor.description]\n",
    "\n",
    "\n",
    "    # creating a csv file:\n",
    "    with open(csv_output, 'w') as csv_file:\n",
    "        csv_writer = csv.writer(csv_file)\n",
    "        csv_writer.writerow(column_names)\n",
    "        for each in cursor:\n",
    "            csv_writer.writerow(each)\n",
    "         \n",
    "    conn.close()"
   ]
  },
  {
   "cell_type": "code",
   "execution_count": 44,
   "metadata": {},
   "outputs": [
    {
     "name": "stdout",
     "output_type": "stream",
     "text": [
      "Opened database successfully\n"
     ]
    }
   ],
   "source": [
    "sql_to_csv(\"all_fault_line.db\",\"test.csv\")\n",
    "    \n"
   ]
  },
  {
   "cell_type": "code",
   "execution_count": null,
   "metadata": {},
   "outputs": [],
   "source": [
    "\n"
   ]
  },
  {
   "cell_type": "code",
   "execution_count": null,
   "metadata": {},
   "outputs": [],
   "source": []
  },
  {
   "cell_type": "code",
   "execution_count": null,
   "metadata": {},
   "outputs": [],
   "source": []
  }
 ],
 "metadata": {
  "kernelspec": {
   "display_name": "Python 3",
   "language": "python",
   "name": "python3"
  },
  "language_info": {
   "codemirror_mode": {
    "name": "ipython",
    "version": 3
   },
   "file_extension": ".py",
   "mimetype": "text/x-python",
   "name": "python",
   "nbconvert_exporter": "python",
   "pygments_lexer": "ipython3",
   "version": "3.7.4"
  }
 },
 "nbformat": 4,
 "nbformat_minor": 2
}
