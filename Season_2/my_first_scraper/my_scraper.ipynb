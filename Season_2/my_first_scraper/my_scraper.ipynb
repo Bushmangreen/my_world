{
 "cells": [
  {
   "cell_type": "code",
   "execution_count": 3,
   "metadata": {},
   "outputs": [],
   "source": [
    "import requests\n",
    "from bs4 import BeautifulSoup"
   ]
  },
  {
   "cell_type": "code",
   "execution_count": 215,
   "metadata": {},
   "outputs": [],
   "source": [
    "def request_github_trending(url):\n",
    "    response = requests.get(\"https://github.com/trending\")\n",
    "    return response\n",
    "\n",
    "def extract(response):\n",
    "    soup = BeautifulSoup(response.text, 'html.parser')\n",
    "    return soup\n",
    "\n",
    "def transform(soup):\n",
    "    articles = soup.find_all('article')\n",
    "    my_list = []\n",
    "    my_dict = {'deverloper': '', 'repository_name': '', 'nbr_stars': ''}\n",
    "    for article in articles:\n",
    "        name = article.find('span').get_text().strip('\\n /')\n",
    "        repo = article.find('span').next_sibling.strip('\\n ')\n",
    "        number_of_stars = article.find(attrs={'aria-label':'star'}).next_sibling.strip('\\n ')\n",
    "        \n",
    "        my_dict['deverloper'] = name\n",
    "        my_dict['repository_name'] = repo\n",
    "        my_dict['nbr_stars'] = number_of_stars\n",
    "        \n",
    "        copy_dict = my_dict.copy()\n",
    "        my_list.append(copy_dict)\n",
    "    return my_list\n",
    "\n",
    "def format(my_list):\n",
    "    column_names = \",\".join(my_list[0].keys())\n",
    "    column_names += '\\n'\n",
    "    \n",
    "    csv_string = \"\"\n",
    "    \n",
    "    csv_string += column_names\n",
    "\n",
    "    \n",
    "    for each in my_list:\n",
    "        line = \",\".join(each.values())\n",
    "        line += '\\n'\n",
    "        csv_string += line\n",
    "\n",
    "    return csv_string\n",
    "    "
   ]
  },
  {
   "cell_type": "code",
   "execution_count": 216,
   "metadata": {},
   "outputs": [
    {
     "data": {
      "text/plain": [
       "'deverloper,repository_name,nbr_stars\\nhtop-dev,htop,925\\nsushiswap,sushiswap,264\\nbottlerocket-os,bottlerocket,3,855\\ngo-gorm,gorm,20,358\\nTheAlgorithms,Python,83,911\\npypa,setuptools,1,150\\nAzure,bicep,182\\nritchieng,the-incredible-pytorch,6,375\\ncleardusk,3DDFA_V2,632\\nabhivaikar,howtheytest,582\\nshubheksha,companies-sponsoring-visas,406\\nh2pl,Java-Tutorial,3,371\\nkamranahmedse,developer-roadmap,123,562\\nportainer,portainer,15,682\\nTHLfi,koronavilkku-android,121\\nhollischuang,toBeTopJavaer,16,920\\ndanistefanovic,build-your-own-x,80,715\\nOSGeo,gdal,2,039\\nruby,ruby,17,237\\n30-seconds,30-seconds-of-code,59,592\\nMicrosoftDocs,azure-docs,4,417\\nmaratonadev-br,desafio-6-2020,35\\ntesterSunshine,12306,28,488\\nsindresorhus,awesome,140,119\\njustmarkham,scikit-learn-tips,955\\n'"
      ]
     },
     "execution_count": 216,
     "metadata": {},
     "output_type": "execute_result"
    }
   ],
   "source": [
    "url =\"https://github.com/trending\"\n",
    "response = request_github_trending(url)\n",
    "soup = extract(response)\n",
    "my_list = transform(soup)\n",
    "format(my_list)"
   ]
  },
  {
   "cell_type": "code",
   "execution_count": null,
   "metadata": {},
   "outputs": [],
   "source": []
  },
  {
   "cell_type": "code",
   "execution_count": null,
   "metadata": {},
   "outputs": [],
   "source": []
  }
 ],
 "metadata": {
  "kernelspec": {
   "display_name": "Python 3",
   "language": "python",
   "name": "python3"
  },
  "language_info": {
   "codemirror_mode": {
    "name": "ipython",
    "version": 3
   },
   "file_extension": ".py",
   "mimetype": "text/x-python",
   "name": "python",
   "nbconvert_exporter": "python",
   "pygments_lexer": "ipython3",
   "version": "3.7.4"
  }
 },
 "nbformat": 4,
 "nbformat_minor": 2
}
