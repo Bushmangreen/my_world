{
 "cells": [
  {
   "cell_type": "code",
   "execution_count": 174,
   "metadata": {},
   "outputs": [],
   "source": [
    "import pandas as pd \n",
    "import numpy as np\n",
    "import matplotlib.pyplot as plt\n",
    "import seaborn as sns\n",
    "\n",
    "#Classifiers\n",
    "from sklearn.discriminant_analysis import LinearDiscriminantAnalysis\n",
    "from sklearn.linear_model import LogisticRegression\n",
    "from sklearn.neighbors import KNeighborsClassifier\n",
    "from sklearn.naive_bayes import GaussianNB\n",
    "from sklearn.tree import DecisionTreeClassifier\n",
    "from sklearn.linear_model import LogisticRegression\n",
    "from sklearn.svm import SVC\n",
    "\n",
    "from sklearn.model_selection import train_test_split\n",
    "from sklearn.model_selection import cross_val_score\n",
    "from sklearn.metrics import classification_report, confusion_matrix, accuracy_score\n",
    "%matplotlib inline"
   ]
  },
  {
   "cell_type": "code",
   "execution_count": 133,
   "metadata": {},
   "outputs": [],
   "source": [
    "def load_dataset(file):\n",
    "    iris = pd.read_csv(file) \n",
    "    return iris"
   ]
  },
  {
   "cell_type": "code",
   "execution_count": 134,
   "metadata": {},
   "outputs": [],
   "source": [
    "def summarize_dataset(iris):\n",
    "    print(iris.shape)\n",
    "    print(iris.head(10))\n",
    "    print(iris.describe())\n",
    "    print(iris.groupby('class').size())\n",
    "    \n"
   ]
  },
  {
   "cell_type": "code",
   "execution_count": 166,
   "metadata": {},
   "outputs": [],
   "source": [
    "def print_plot_univariate(iris):\n",
    "    fig = plt.figure()\n",
    "    fig.subplots_adjust(hspace=0.4, wspace=0.4)\n",
    "    for i in range(1,5):\n",
    "        ax = fig.add_subplot(2, 2, i)\n",
    "        column_name = iris.columns[i-1]\n",
    "        sns.distplot(iris[column_name], ax=ax)"
   ]
  },
  {
   "cell_type": "code",
   "execution_count": 136,
   "metadata": {},
   "outputs": [],
   "source": [
    "def print_plot_multivariate():\n",
    "    sns.pairplot(iris, hue = 'class')"
   ]
  },
  {
   "cell_type": "code",
   "execution_count": 189,
   "metadata": {},
   "outputs": [],
   "source": [
    "def my_print_and_test_models(iris):\n",
    "    \n",
    "    X = iris.drop('class', axis = 1)\n",
    "    y = iris['class']\n",
    "    \n",
    "    X_train, X_test, y_train, y_test = train_test_split(X, y, test_size=0.2, random_state = 1)\n",
    "    \n",
    "#     # DecisionTree\n",
    "    dt_model = DecisionTreeClassifier()\n",
    "    dt_model.fit(X_train, y_train)\n",
    "    dt_predictions = dt_model.predict(X_test)\n",
    "    print('%s:\\t %f' % (dt_model, accuracy_score(y_test,dt_predictions)))\n",
    "\n",
    "    # GaussianNB\n",
    "    gauss_model = GaussianNB()\n",
    "    gauss_model.fit(X_train, y_train)\n",
    "    gauss_predictions = gauss_model.predict(X_test)\n",
    "    print('%s:\\t\\t\\t %f' % (gauss_model, accuracy_score(y_test,gauss_predictions)))\n",
    "    \n",
    "#     # KNeighbors\n",
    "    kn_model = KNeighborsClassifier()\n",
    "    kn_model.fit(X_train, y_train)\n",
    "    kn_predictions = kn_model.predict(X_test)\n",
    "    print('%s:\\t\\t %f' % (kn_model, accuracy_score(y_test, kn_predictions)))\n",
    "\n",
    "     # LogisticRegression - done\n",
    "    lr_model = LogisticRegression()\n",
    "    lr_model.fit(X_train, y_train)\n",
    "    lr_predictions = lr_model.predict(X_test)\n",
    "    print('%s:\\t\\t %f' % (lr_model, accuracy_score(y_test, lr_predictions)))\n",
    "    \n",
    "#     # LinearDiscriminant\n",
    "    ld_model = LinearDiscriminantAnalysis()\n",
    "    ld_model.fit(X_train, y_train)\n",
    "    ld_predictions = ld_model.predict(X_test)\n",
    "    print('%s:\\t %f' % (ld_model, accuracy_score(y_test, ld_predictions)))\n",
    "    \n",
    "#     # SVM - done\n",
    "    svm_model = SVC(gamma='auto')\n",
    "    svm_model.fit(X_train, y_train)\n",
    "    svm_predictions = svm_model.predict(X_test)\n",
    "    print('%s:\\t\\t %f' % (svm_model, accuracy_score(y_test,svm_predictions)))\n",
    "\n",
    "\n"
   ]
  },
  {
   "cell_type": "code",
   "execution_count": 1,
   "metadata": {},
   "outputs": [
    {
     "ename": "NameError",
     "evalue": "name 'load_dataset' is not defined",
     "output_type": "error",
     "traceback": [
      "\u001b[0;31m---------------------------------------------------------------------------\u001b[0m",
      "\u001b[0;31mNameError\u001b[0m                                 Traceback (most recent call last)",
      "\u001b[0;32m<ipython-input-1-f5246a225c08>\u001b[0m in \u001b[0;36m<module>\u001b[0;34m\u001b[0m\n\u001b[0;32m----> 1\u001b[0;31m \u001b[0miris\u001b[0m \u001b[0;34m=\u001b[0m \u001b[0mload_dataset\u001b[0m\u001b[0;34m(\u001b[0m\u001b[0;34m'iris.csv'\u001b[0m\u001b[0;34m)\u001b[0m\u001b[0;34m\u001b[0m\u001b[0;34m\u001b[0m\u001b[0m\n\u001b[0m\u001b[1;32m      2\u001b[0m \u001b[0mmy_print_and_test_models\u001b[0m\u001b[0;34m(\u001b[0m\u001b[0miris\u001b[0m\u001b[0;34m)\u001b[0m\u001b[0;34m\u001b[0m\u001b[0;34m\u001b[0m\u001b[0m\n",
      "\u001b[0;31mNameError\u001b[0m: name 'load_dataset' is not defined"
     ]
    }
   ],
   "source": [
    "iris = load_dataset('iris.csv')\n",
    "my_print_and_test_models(iris)"
   ]
  },
  {
   "cell_type": "code",
   "execution_count": 34,
   "metadata": {},
   "outputs": [],
   "source": []
  },
  {
   "cell_type": "code",
   "execution_count": 36,
   "metadata": {},
   "outputs": [],
   "source": []
  },
  {
   "cell_type": "code",
   "execution_count": null,
   "metadata": {},
   "outputs": [],
   "source": []
  },
  {
   "cell_type": "code",
   "execution_count": null,
   "metadata": {},
   "outputs": [],
   "source": []
  },
  {
   "cell_type": "code",
   "execution_count": 48,
   "metadata": {},
   "outputs": [],
   "source": []
  },
  {
   "cell_type": "code",
   "execution_count": null,
   "metadata": {},
   "outputs": [],
   "source": []
  },
  {
   "cell_type": "code",
   "execution_count": null,
   "metadata": {},
   "outputs": [],
   "source": []
  }
 ],
 "metadata": {
  "kernelspec": {
   "display_name": "Python 3",
   "language": "python",
   "name": "python3"
  },
  "language_info": {
   "codemirror_mode": {
    "name": "ipython",
    "version": 3
   },
   "file_extension": ".py",
   "mimetype": "text/x-python",
   "name": "python",
   "nbconvert_exporter": "python",
   "pygments_lexer": "ipython3",
   "version": "3.7.4"
  }
 },
 "nbformat": 4,
 "nbformat_minor": 4
}
